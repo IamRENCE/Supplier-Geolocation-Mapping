{
 "cells": [
  {
   "cell_type": "markdown",
   "metadata": {},
   "source": [
    "# Visualising Query Results from OSM and Nominatim"
   ]
  },
  {
   "cell_type": "code",
   "execution_count": 1,
   "metadata": {},
   "outputs": [],
   "source": [
    "import matplotlib.pyplot as plt\n",
    "import seaborn as sns\n",
    "import pandas as pd\n",
    "from OSMPythonTools.nominatim import Nominatim"
   ]
  },
  {
   "cell_type": "code",
   "execution_count": 2,
   "metadata": {},
   "outputs": [],
   "source": [
    "queries = ['Lockheed Martin',\n",
    "'Airbus',\n",
    "'Boeing',\n",
    "'Rheinmetall Defence',\n",
    "'General Dynamics',\n",
    "'Leonardo',\n",
    "'Rolls Royce',\n",
    "'L3Harris',\n",
    "'Krauss-Maffei Wegmann']\n",
    "\n",
    "nominatim = Nominatim()"
   ]
  },
  {
   "cell_type": "code",
   "execution_count": 3,
   "metadata": {},
   "outputs": [],
   "source": [
    "result = []\n",
    "for query in queries:\n",
    "    OSM_query = nominatim.query(query).toJSON()\n",
    "    result += OSM_query"
   ]
  },
  {
   "cell_type": "code",
   "execution_count": 4,
   "metadata": {},
   "outputs": [
    {
     "data": {
      "text/plain": [
       "{'place_id': 73062617,\n",
       " 'licence': 'Data © OpenStreetMap contributors, ODbL 1.0. https://osm.org/copyright',\n",
       " 'osm_type': 'node',\n",
       " 'osm_id': 6309492410,\n",
       " 'boundingbox': ['37.4052236', '37.4152236', '-122.0318833', '-122.0218833'],\n",
       " 'lat': '37.4102236',\n",
       " 'lon': '-122.0268833',\n",
       " 'display_name': 'Lockheed Martin, North Mathilda Avenue, Sunnyvale, Santa Clara County, California, 94089, United States of America',\n",
       " 'class': 'railway',\n",
       " 'type': 'station',\n",
       " 'importance': 0.5168930617533198,\n",
       " 'icon': 'https://nominatim.openstreetmap.org/images/mapicons/transport_train_station2.p.20.png'}"
      ]
     },
     "execution_count": 4,
     "metadata": {},
     "output_type": "execute_result"
    }
   ],
   "source": [
    "# Check single query result\n",
    "result[0]"
   ]
  },
  {
   "cell_type": "code",
   "execution_count": 5,
   "metadata": {},
   "outputs": [
    {
     "data": {
      "text/html": [
       "<div>\n",
       "<style scoped>\n",
       "    .dataframe tbody tr th:only-of-type {\n",
       "        vertical-align: middle;\n",
       "    }\n",
       "\n",
       "    .dataframe tbody tr th {\n",
       "        vertical-align: top;\n",
       "    }\n",
       "\n",
       "    .dataframe thead th {\n",
       "        text-align: right;\n",
       "    }\n",
       "</style>\n",
       "<table border=\"1\" class=\"dataframe\">\n",
       "  <thead>\n",
       "    <tr style=\"text-align: right;\">\n",
       "      <th></th>\n",
       "      <th>place_id</th>\n",
       "      <th>licence</th>\n",
       "      <th>osm_type</th>\n",
       "      <th>osm_id</th>\n",
       "      <th>boundingbox</th>\n",
       "      <th>lat</th>\n",
       "      <th>lon</th>\n",
       "      <th>display_name</th>\n",
       "      <th>class</th>\n",
       "      <th>type</th>\n",
       "      <th>importance</th>\n",
       "      <th>icon</th>\n",
       "    </tr>\n",
       "  </thead>\n",
       "  <tbody>\n",
       "    <tr>\n",
       "      <th>0</th>\n",
       "      <td>73062617</td>\n",
       "      <td>Data © OpenStreetMap contributors, ODbL 1.0. h...</td>\n",
       "      <td>node</td>\n",
       "      <td>6309492410</td>\n",
       "      <td>[37.4052236, 37.4152236, -122.0318833, -122.02...</td>\n",
       "      <td>37.4102236</td>\n",
       "      <td>-122.0268833</td>\n",
       "      <td>Lockheed Martin, North Mathilda Avenue, Sunnyv...</td>\n",
       "      <td>railway</td>\n",
       "      <td>station</td>\n",
       "      <td>0.516893</td>\n",
       "      <td>https://nominatim.openstreetmap.org/images/map...</td>\n",
       "    </tr>\n",
       "    <tr>\n",
       "      <th>1</th>\n",
       "      <td>186830511</td>\n",
       "      <td>Data © OpenStreetMap contributors, ODbL 1.0. h...</td>\n",
       "      <td>way</td>\n",
       "      <td>461990541</td>\n",
       "      <td>[28.4393629, 28.4498899, -81.4663807, -81.4502...</td>\n",
       "      <td>28.444419449999998</td>\n",
       "      <td>-81.45939724481775</td>\n",
       "      <td>Lockheed Martin, Orange County, Florida, Unite...</td>\n",
       "      <td>landuse</td>\n",
       "      <td>industrial</td>\n",
       "      <td>0.400000</td>\n",
       "      <td>NaN</td>\n",
       "    </tr>\n",
       "    <tr>\n",
       "      <th>2</th>\n",
       "      <td>233040507</td>\n",
       "      <td>Data © OpenStreetMap contributors, ODbL 1.0. h...</td>\n",
       "      <td>way</td>\n",
       "      <td>751754734</td>\n",
       "      <td>[34.6091892, 34.6201411, -118.1216872, -118.10...</td>\n",
       "      <td>34.61462425</td>\n",
       "      <td>-118.1176553123895</td>\n",
       "      <td>Lockheed Martin, Palmdale, Los Angeles County,...</td>\n",
       "      <td>landuse</td>\n",
       "      <td>commercial</td>\n",
       "      <td>0.400000</td>\n",
       "      <td>NaN</td>\n",
       "    </tr>\n",
       "    <tr>\n",
       "      <th>3</th>\n",
       "      <td>110665459</td>\n",
       "      <td>Data © OpenStreetMap contributors, ODbL 1.0. h...</td>\n",
       "      <td>way</td>\n",
       "      <td>104556885</td>\n",
       "      <td>[52.0425106, 52.0482611, -0.4977645, -0.491177]</td>\n",
       "      <td>52.045457</td>\n",
       "      <td>-0.49518393513989056</td>\n",
       "      <td>Lockheed Martin, Houghton Conquest, Ampthill, ...</td>\n",
       "      <td>landuse</td>\n",
       "      <td>commercial</td>\n",
       "      <td>0.400000</td>\n",
       "      <td>NaN</td>\n",
       "    </tr>\n",
       "    <tr>\n",
       "      <th>4</th>\n",
       "      <td>108613516</td>\n",
       "      <td>Data © OpenStreetMap contributors, ODbL 1.0. h...</td>\n",
       "      <td>way</td>\n",
       "      <td>97858770</td>\n",
       "      <td>[43.099489, 43.1076352, -78.9366766, -78.927114]</td>\n",
       "      <td>43.105438</td>\n",
       "      <td>-78.93016382992954</td>\n",
       "      <td>Lockheed Martin, Walmore, Wheatfield Town, Nia...</td>\n",
       "      <td>landuse</td>\n",
       "      <td>industrial</td>\n",
       "      <td>0.400000</td>\n",
       "      <td>NaN</td>\n",
       "    </tr>\n",
       "    <tr>\n",
       "      <th>...</th>\n",
       "      <td>...</td>\n",
       "      <td>...</td>\n",
       "      <td>...</td>\n",
       "      <td>...</td>\n",
       "      <td>...</td>\n",
       "      <td>...</td>\n",
       "      <td>...</td>\n",
       "      <td>...</td>\n",
       "      <td>...</td>\n",
       "      <td>...</td>\n",
       "      <td>...</td>\n",
       "      <td>...</td>\n",
       "    </tr>\n",
       "    <tr>\n",
       "      <th>63</th>\n",
       "      <td>204075159</td>\n",
       "      <td>Data © OpenStreetMap contributors, ODbL 1.0. h...</td>\n",
       "      <td>way</td>\n",
       "      <td>562749763</td>\n",
       "      <td>[51.1317567, 51.1325072, -0.1701069, -0.1690282]</td>\n",
       "      <td>51.13213705</td>\n",
       "      <td>-0.16957515272839274</td>\n",
       "      <td>L3Harris, Gatwick Road, OakWood Trade Park, Cr...</td>\n",
       "      <td>building</td>\n",
       "      <td>commercial</td>\n",
       "      <td>0.111000</td>\n",
       "      <td>NaN</td>\n",
       "    </tr>\n",
       "    <tr>\n",
       "      <th>64</th>\n",
       "      <td>204012691</td>\n",
       "      <td>Data © OpenStreetMap contributors, ODbL 1.0. h...</td>\n",
       "      <td>way</td>\n",
       "      <td>562749762</td>\n",
       "      <td>[51.1324927, 51.1333568, -0.1706682, -0.1694562]</td>\n",
       "      <td>51.13293145</td>\n",
       "      <td>-0.17006651167800912</td>\n",
       "      <td>L3Harris, Crawter's Brook Park, Crawley, West ...</td>\n",
       "      <td>building</td>\n",
       "      <td>commercial</td>\n",
       "      <td>0.111000</td>\n",
       "      <td>NaN</td>\n",
       "    </tr>\n",
       "    <tr>\n",
       "      <th>65</th>\n",
       "      <td>147601193</td>\n",
       "      <td>Data © OpenStreetMap contributors, ODbL 1.0. h...</td>\n",
       "      <td>way</td>\n",
       "      <td>253085542</td>\n",
       "      <td>[51.3217183, 51.3231126, 9.4905494, 9.4917967]</td>\n",
       "      <td>51.32252545</td>\n",
       "      <td>9.491076786172702</td>\n",
       "      <td>69, Nord (Holland), Kassel, Hessen, 34117, Deu...</td>\n",
       "      <td>landuse</td>\n",
       "      <td>industrial</td>\n",
       "      <td>0.200000</td>\n",
       "      <td>NaN</td>\n",
       "    </tr>\n",
       "    <tr>\n",
       "      <th>66</th>\n",
       "      <td>148841391</td>\n",
       "      <td>Data © OpenStreetMap contributors, ODbL 1.0. h...</td>\n",
       "      <td>way</td>\n",
       "      <td>258510560</td>\n",
       "      <td>[51.3217784, 51.3247942, 9.4961558, 9.4999543]</td>\n",
       "      <td>51.323279549999995</td>\n",
       "      <td>9.498461373412969</td>\n",
       "      <td>32-40, Nord (Holland), Kassel, Hessen, 34127, ...</td>\n",
       "      <td>landuse</td>\n",
       "      <td>industrial</td>\n",
       "      <td>0.200000</td>\n",
       "      <td>NaN</td>\n",
       "    </tr>\n",
       "    <tr>\n",
       "      <th>67</th>\n",
       "      <td>147491299</td>\n",
       "      <td>Data © OpenStreetMap contributors, ODbL 1.0. h...</td>\n",
       "      <td>way</td>\n",
       "      <td>251660900</td>\n",
       "      <td>[51.3209734, 51.3234706, 9.4773897, 9.4882513]</td>\n",
       "      <td>51.322372349999995</td>\n",
       "      <td>9.483159441752083</td>\n",
       "      <td>1, Rothenditmold, Kassel, Hessen, 34127, Deuts...</td>\n",
       "      <td>landuse</td>\n",
       "      <td>industrial</td>\n",
       "      <td>0.200000</td>\n",
       "      <td>NaN</td>\n",
       "    </tr>\n",
       "  </tbody>\n",
       "</table>\n",
       "<p>68 rows × 12 columns</p>\n",
       "</div>"
      ],
      "text/plain": [
       "     place_id                                            licence osm_type  \\\n",
       "0    73062617  Data © OpenStreetMap contributors, ODbL 1.0. h...     node   \n",
       "1   186830511  Data © OpenStreetMap contributors, ODbL 1.0. h...      way   \n",
       "2   233040507  Data © OpenStreetMap contributors, ODbL 1.0. h...      way   \n",
       "3   110665459  Data © OpenStreetMap contributors, ODbL 1.0. h...      way   \n",
       "4   108613516  Data © OpenStreetMap contributors, ODbL 1.0. h...      way   \n",
       "..        ...                                                ...      ...   \n",
       "63  204075159  Data © OpenStreetMap contributors, ODbL 1.0. h...      way   \n",
       "64  204012691  Data © OpenStreetMap contributors, ODbL 1.0. h...      way   \n",
       "65  147601193  Data © OpenStreetMap contributors, ODbL 1.0. h...      way   \n",
       "66  148841391  Data © OpenStreetMap contributors, ODbL 1.0. h...      way   \n",
       "67  147491299  Data © OpenStreetMap contributors, ODbL 1.0. h...      way   \n",
       "\n",
       "        osm_id                                        boundingbox  \\\n",
       "0   6309492410  [37.4052236, 37.4152236, -122.0318833, -122.02...   \n",
       "1    461990541  [28.4393629, 28.4498899, -81.4663807, -81.4502...   \n",
       "2    751754734  [34.6091892, 34.6201411, -118.1216872, -118.10...   \n",
       "3    104556885    [52.0425106, 52.0482611, -0.4977645, -0.491177]   \n",
       "4     97858770   [43.099489, 43.1076352, -78.9366766, -78.927114]   \n",
       "..         ...                                                ...   \n",
       "63   562749763   [51.1317567, 51.1325072, -0.1701069, -0.1690282]   \n",
       "64   562749762   [51.1324927, 51.1333568, -0.1706682, -0.1694562]   \n",
       "65   253085542     [51.3217183, 51.3231126, 9.4905494, 9.4917967]   \n",
       "66   258510560     [51.3217784, 51.3247942, 9.4961558, 9.4999543]   \n",
       "67   251660900     [51.3209734, 51.3234706, 9.4773897, 9.4882513]   \n",
       "\n",
       "                   lat                   lon  \\\n",
       "0           37.4102236          -122.0268833   \n",
       "1   28.444419449999998    -81.45939724481775   \n",
       "2          34.61462425    -118.1176553123895   \n",
       "3            52.045457  -0.49518393513989056   \n",
       "4            43.105438    -78.93016382992954   \n",
       "..                 ...                   ...   \n",
       "63         51.13213705  -0.16957515272839274   \n",
       "64         51.13293145  -0.17006651167800912   \n",
       "65         51.32252545     9.491076786172702   \n",
       "66  51.323279549999995     9.498461373412969   \n",
       "67  51.322372349999995     9.483159441752083   \n",
       "\n",
       "                                         display_name     class        type  \\\n",
       "0   Lockheed Martin, North Mathilda Avenue, Sunnyv...   railway     station   \n",
       "1   Lockheed Martin, Orange County, Florida, Unite...   landuse  industrial   \n",
       "2   Lockheed Martin, Palmdale, Los Angeles County,...   landuse  commercial   \n",
       "3   Lockheed Martin, Houghton Conquest, Ampthill, ...   landuse  commercial   \n",
       "4   Lockheed Martin, Walmore, Wheatfield Town, Nia...   landuse  industrial   \n",
       "..                                                ...       ...         ...   \n",
       "63  L3Harris, Gatwick Road, OakWood Trade Park, Cr...  building  commercial   \n",
       "64  L3Harris, Crawter's Brook Park, Crawley, West ...  building  commercial   \n",
       "65  69, Nord (Holland), Kassel, Hessen, 34117, Deu...   landuse  industrial   \n",
       "66  32-40, Nord (Holland), Kassel, Hessen, 34127, ...   landuse  industrial   \n",
       "67  1, Rothenditmold, Kassel, Hessen, 34127, Deuts...   landuse  industrial   \n",
       "\n",
       "    importance                                               icon  \n",
       "0     0.516893  https://nominatim.openstreetmap.org/images/map...  \n",
       "1     0.400000                                                NaN  \n",
       "2     0.400000                                                NaN  \n",
       "3     0.400000                                                NaN  \n",
       "4     0.400000                                                NaN  \n",
       "..         ...                                                ...  \n",
       "63    0.111000                                                NaN  \n",
       "64    0.111000                                                NaN  \n",
       "65    0.200000                                                NaN  \n",
       "66    0.200000                                                NaN  \n",
       "67    0.200000                                                NaN  \n",
       "\n",
       "[68 rows x 12 columns]"
      ]
     },
     "execution_count": 5,
     "metadata": {},
     "output_type": "execute_result"
    }
   ],
   "source": [
    "# Analyse data\n",
    "df = pd.DataFrame.from_records(result)\n",
    "df"
   ]
  },
  {
   "cell_type": "code",
   "execution_count": 6,
   "metadata": {},
   "outputs": [
    {
     "data": {
      "text/plain": [
       "['place_id',\n",
       " 'licence',\n",
       " 'osm_type',\n",
       " 'osm_id',\n",
       " 'boundingbox',\n",
       " 'lat',\n",
       " 'lon',\n",
       " 'display_name',\n",
       " 'class',\n",
       " 'type',\n",
       " 'importance',\n",
       " 'icon']"
      ]
     },
     "execution_count": 6,
     "metadata": {},
     "output_type": "execute_result"
    }
   ],
   "source": [
    "# Analyse columns\n",
    "df.columns.tolist()"
   ]
  },
  {
   "cell_type": "code",
   "execution_count": 7,
   "metadata": {},
   "outputs": [
    {
     "data": {
      "text/html": [
       "<div>\n",
       "<style scoped>\n",
       "    .dataframe tbody tr th:only-of-type {\n",
       "        vertical-align: middle;\n",
       "    }\n",
       "\n",
       "    .dataframe tbody tr th {\n",
       "        vertical-align: top;\n",
       "    }\n",
       "\n",
       "    .dataframe thead th {\n",
       "        text-align: right;\n",
       "    }\n",
       "</style>\n",
       "<table border=\"1\" class=\"dataframe\">\n",
       "  <thead>\n",
       "    <tr style=\"text-align: right;\">\n",
       "      <th></th>\n",
       "      <th>0</th>\n",
       "    </tr>\n",
       "  </thead>\n",
       "  <tbody>\n",
       "    <tr>\n",
       "      <th>landuse</th>\n",
       "      <td>24</td>\n",
       "    </tr>\n",
       "    <tr>\n",
       "      <th>highway</th>\n",
       "      <td>15</td>\n",
       "    </tr>\n",
       "    <tr>\n",
       "      <th>building</th>\n",
       "      <td>10</td>\n",
       "    </tr>\n",
       "    <tr>\n",
       "      <th>place</th>\n",
       "      <td>7</td>\n",
       "    </tr>\n",
       "    <tr>\n",
       "      <th>office</th>\n",
       "      <td>3</td>\n",
       "    </tr>\n",
       "    <tr>\n",
       "      <th>man_made</th>\n",
       "      <td>2</td>\n",
       "    </tr>\n",
       "    <tr>\n",
       "      <th>amenity</th>\n",
       "      <td>2</td>\n",
       "    </tr>\n",
       "    <tr>\n",
       "      <th>tourism</th>\n",
       "      <td>2</td>\n",
       "    </tr>\n",
       "    <tr>\n",
       "      <th>railway</th>\n",
       "      <td>1</td>\n",
       "    </tr>\n",
       "    <tr>\n",
       "      <th>boundary</th>\n",
       "      <td>1</td>\n",
       "    </tr>\n",
       "    <tr>\n",
       "      <th>aeroway</th>\n",
       "      <td>1</td>\n",
       "    </tr>\n",
       "  </tbody>\n",
       "</table>\n",
       "</div>"
      ],
      "text/plain": [
       "           0\n",
       "landuse   24\n",
       "highway   15\n",
       "building  10\n",
       "place      7\n",
       "office     3\n",
       "man_made   2\n",
       "amenity    2\n",
       "tourism    2\n",
       "railway    1\n",
       "boundary   1\n",
       "aeroway    1"
      ]
     },
     "execution_count": 7,
     "metadata": {},
     "output_type": "execute_result"
    }
   ],
   "source": [
    "pd.DataFrame(df[\"class\"].apply(pd.Series)[0].value_counts())"
   ]
  },
  {
   "cell_type": "code",
   "execution_count": 8,
   "metadata": {},
   "outputs": [
    {
     "data": {
      "image/png": "[encoded data removed]",
      "text/plain": [
       "<Figure size 720x720 with 1 Axes>"
      ]
     },
     "metadata": {
      "needs_background": "light"
     },
     "output_type": "display_data"
    }
   ],
   "source": [
    "# Visualing class types\n",
    "loc_classes = pd.DataFrame(df[\"class\"].apply(pd.Series)[0].value_counts().reset_index())\n",
    "loc_classes.columns = [\"class\", \"count\"]\n",
    "fig, ax = plt.subplots(figsize=(10,10))\n",
    "sns.barplot(y=\"class\", x=\"count\", data=loc_classes, ax=ax)\n",
    "plt.tight_layout()"
   ]
  },
  {
   "cell_type": "code",
   "execution_count": 9,
   "metadata": {},
   "outputs": [
    {
     "data": {
      "image/png": "[encoded data removed]",
      "text/plain": [
       "<Figure size 720x720 with 1 Axes>"
      ]
     },
     "metadata": {
      "needs_background": "light"
     },
     "output_type": "display_data"
    }
   ],
   "source": [
    "# Remove classes that are definitely unneeded\n",
    "unneeded_classes = ['highway', 'place', 'tourism', 'boundary', 'railway', 'aeroway']\n",
    "df = df[df['class'].isin(unneeded_classes) == False]\n",
    "\n",
    "# Re-visualing loc classes\n",
    "loc_classes = pd.DataFrame(df[\"class\"].apply(pd.Series)[0].value_counts().reset_index())\n",
    "loc_classes.columns = [\"class\", \"count\"]\n",
    "fig, ax = plt.subplots(figsize=(10,10))\n",
    "sns.barplot(y=\"class\", x=\"count\", data=loc_classes, ax=ax)\n",
    "plt.tight_layout()"
   ]
  },
  {
   "cell_type": "code",
   "execution_count": 10,
   "metadata": {},
   "outputs": [
    {
     "data": {
      "image/png": "[encoded data removed]",
      "text/plain": [
       "<Figure size 720x720 with 1 Axes>"
      ]
     },
     "metadata": {
      "needs_background": "light"
     },
     "output_type": "display_data"
    }
   ],
   "source": [
    "# Visualing loc types\n",
    "loc_types = pd.DataFrame(df[\"type\"].apply(pd.Series)[0].value_counts().reset_index())\n",
    "loc_types.columns = [\"type\", \"count\"]\n",
    "fig, ax = plt.subplots(figsize=(10,10))\n",
    "sns.barplot(y=\"type\", x=\"count\", data=loc_types, ax=ax)\n",
    "plt.tight_layout()"
   ]
  },
  {
   "cell_type": "code",
   "execution_count": 11,
   "metadata": {},
   "outputs": [
    {
     "data": {
      "image/png": "[encoded data removed]",
      "text/plain": [
       "<Figure size 720x720 with 1 Axes>"
      ]
     },
     "metadata": {
      "needs_background": "light"
     },
     "output_type": "display_data"
    }
   ],
   "source": [
    "# Remove types that are definitely unneeded\n",
    "unneeded_types = ['parking', 'yes', 'brownfield']\n",
    "df = df[df['type'].isin(unneeded_types) == False]\n",
    "\n",
    "# Re-visualing loc types\n",
    "loc_types = pd.DataFrame(df[\"type\"].apply(pd.Series)[0].value_counts().reset_index())\n",
    "loc_types.columns = [\"type\", \"count\"]\n",
    "fig, ax = plt.subplots(figsize=(10,10))\n",
    "sns.barplot(y=\"type\", x=\"count\", data=loc_types, ax=ax)\n",
    "plt.tight_layout()"
   ]
  },
  {
   "cell_type": "markdown",
   "metadata": {},
   "source": [
    "# Testing python helper function to get mapping"
   ]
  },
  {
   "cell_type": "code",
   "execution_count": 12,
   "metadata": {},
   "outputs": [],
   "source": [
    "from geolocation_mapper import get_geolocation_mapping "
   ]
  },
  {
   "cell_type": "code",
   "execution_count": 13,
   "metadata": {},
   "outputs": [],
   "source": [
    "import pytest\n",
    "\n",
    "with pytest.raises(ValueError):\n",
    "    mapping = get_geolocation_mapping(\"\")\n",
    "\n",
    "with pytest.raises(ValueError):\n",
    "    mapping = get_geolocation_mapping()"
   ]
  },
  {
   "cell_type": "code",
   "execution_count": 14,
   "metadata": {},
   "outputs": [
    {
     "data": {
      "text/plain": [
       "[{'lat': '53.6187258', 'lon': '9.995376396325499'},\n",
       " {'lat': '43.65274885', 'lon': '1.356780913545912'},\n",
       " {'lat': '44.55276375', 'lon': '-0.23717808690619216'},\n",
       " {'lat': '51.513034250000004', 'lon': '-2.5775447515268164'},\n",
       " {'lat': '53.16591135', 'lon': '-3.0566938232321137'}]"
      ]
     },
     "execution_count": 14,
     "metadata": {},
     "output_type": "execute_result"
    }
   ],
   "source": [
    "mapping = get_geolocation_mapping('Airbus')\n",
    "mapping"
   ]
  },
  {
   "cell_type": "code",
   "execution_count": 15,
   "metadata": {},
   "outputs": [
    {
     "data": {
      "text/plain": [
       "[{'lat': '51.32252545', 'lon': '9.491076786172702'},\n",
       " {'lat': '51.323279549999995', 'lon': '9.498461373412969'},\n",
       " {'lat': '51.322372349999995', 'lon': '9.483159441752083'}]"
      ]
     },
     "execution_count": 15,
     "metadata": {},
     "output_type": "execute_result"
    }
   ],
   "source": [
    "mapping = get_geolocation_mapping('Krauss-Maffei Wegmann')\n",
    "mapping"
   ]
  },
  {
   "cell_type": "code",
   "execution_count": 16,
   "metadata": {},
   "outputs": [
    {
     "name": "stdout",
     "output_type": "stream",
     "text": [
      "Lockheed Martin Geolocations:\n",
      "Lat: 28.444419449999998   \tLon: -81.45939724481775  \n",
      "Lat: 34.61462425          \tLon: -118.1176553123895  \n",
      "Lat: 52.045457            \tLon: -0.49518393513989056\n",
      "Lat: 43.105438            \tLon: -78.93016382992954  \n",
      "Lat: 39.030891499999996   \tLon: -77.13876633194991  \n",
      "Lat: 39.50599855          \tLon: -105.11360240865616 \n",
      "Lat: 34.72721385          \tLon: -86.649203820559    \n",
      "\n",
      "\n",
      "Airbus Geolocations:\n",
      "Lat: 53.6187258           \tLon: 9.995376396325499   \n",
      "Lat: 43.65274885          \tLon: 1.356780913545912   \n",
      "Lat: 44.55276375          \tLon: -0.23717808690619216\n",
      "Lat: 51.513034250000004   \tLon: -2.5775447515268164 \n",
      "Lat: 53.16591135          \tLon: -3.0566938232321137 \n",
      "\n",
      "\n",
      "Boeing Geolocations:\n",
      "Lat: 29.59173615          \tLon: -95.099817235868    \n",
      "Lat: 39.86609405          \tLon: -75.3239071379754   \n",
      "Lat: 34.726048399999996   \tLon: -86.67427209860197  \n",
      "\n",
      "\n",
      "Rheinmetall Defence Geolocations:\n",
      "Lat: 48.29289545          \tLon: 8.576557026082067   \n",
      "\n",
      "\n",
      "General Dynamics Geolocations:\n",
      "Lat: 32.689523550000004   \tLon: -117.13496208547718 \n",
      "Lat: 45.2888297           \tLon: -74.0832761440295   \n",
      "Lat: 45.74663645          \tLon: -73.4894804479584   \n",
      "Lat: 45.3303109           \tLon: -75.7238339         \n",
      "Lat: 49.4380562           \tLon: 7.776006543079838   \n",
      "Lat: 27.8755581           \tLon: -82.6524765         \n",
      "Lat: 41.40444545          \tLon: -75.66627911526548  \n",
      "Lat: 42.46219285          \tLon: -73.20639554952803  \n",
      "Lat: 31.5537425           \tLon: -110.2931398        \n",
      "\n",
      "\n",
      "Leonardo Geolocations:\n",
      "Lat: 45.552089249999995   \tLon: 8.989486345711573   \n",
      "\n",
      "\n",
      "Rolls Royce Geolocations:\n",
      "Lat: 52.909516800000006   \tLon: -1.434978199556217  \n",
      "Lat: 52.8990902           \tLon: -1.4693756616151972 \n",
      "Lat: 52.906293149999996   \tLon: -1.463737987434531  \n",
      "Lat: 52.4259825           \tLon: -1.405936057750244  \n",
      "\n",
      "\n",
      "L3Harris Geolocations:\n",
      "Lat: 51.8772525           \tLon: -0.4062738225966619 \n",
      "Lat: 51.877347349999994   \tLon: -0.40714871842969036\n",
      "Lat: 51.13213705          \tLon: -0.16957515272839274\n",
      "Lat: 51.13293145          \tLon: -0.17006651167800912\n",
      "\n",
      "\n",
      "Krauss-Maffei Wegmann Geolocations:\n",
      "Lat: 51.32252545          \tLon: 9.491076786172702   \n",
      "Lat: 51.323279549999995   \tLon: 9.498461373412969   \n",
      "Lat: 51.322372349999995   \tLon: 9.483159441752083   \n",
      "\n",
      "\n"
     ]
    }
   ],
   "source": [
    "# Test all Queries\n",
    "for query in queries:\n",
    "    mapping = get_geolocation_mapping(query)\n",
    "    print(query + \" Geolocations:\")\n",
    "    for geo_loc in mapping:\n",
    "        print(\"Lat: {:<20s} \\tLon: {:<20s}\".format(geo_loc['lat'], geo_loc['lon']))\n",
    "\n",
    "    print(\"\\n\")"
   ]
  }
 ],
 "metadata": {
  "kernelspec": {
   "display_name": "ox",
   "language": "python",
   "name": "ox"
  },
  "language_info": {
   "codemirror_mode": {
    "name": "ipython",
    "version": 3
   },
   "file_extension": ".py",
   "mimetype": "text/x-python",
   "name": "python",
   "nbconvert_exporter": "python",
   "pygments_lexer": "ipython3",
   "version": "3.7.6"
  }
 },
 "nbformat": 4,
 "nbformat_minor": 2
}
