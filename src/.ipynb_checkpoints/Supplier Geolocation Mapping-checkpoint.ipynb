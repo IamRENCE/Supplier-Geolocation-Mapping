{
 "cells": [
  {
   "cell_type": "markdown",
   "metadata": {},
   "source": [
    "# Visualising Query Results from OSM and Nominatim"
   ]
  },
  {
   "cell_type": "code",
   "execution_count": 1,
   "metadata": {},
   "outputs": [],
   "source": [
    "import matplotlib.pyplot as plt\n",
    "import seaborn as sns\n",
    "import pandas as pd\n",
    "from OSMPythonTools.nominatim import Nominatim"
   ]
  },
  {
   "cell_type": "code",
   "execution_count": 2,
   "metadata": {},
   "outputs": [],
   "source": [
    "queries = ['Lockheed Martin',\n",
    "'Airbus',\n",
    "'Boeing',\n",
    "'Rheinmetall Defence',\n",
    "'General Dynamics',\n",
    "'Leonardo',\n",
    "'Rolls Royce',\n",
    "'L3 Harris',\n",
    "'Krauss-Maffei Wegmann']\n",
    "\n",
    "nominatim = Nominatim()"
   ]
  },
  {
   "cell_type": "code",
   "execution_count": 3,
   "metadata": {},
   "outputs": [],
   "source": [
    "result = []\n",
    "for query in queries:\n",
    "    OSM_query = nominatim.query(query).toJSON()\n",
    "    result += OSM_query"
   ]
  },
  {
   "cell_type": "code",
   "execution_count": 4,
   "metadata": {},
   "outputs": [
    {
     "data": {
      "text/plain": [
       "{'place_id': 73062617,\n",
       " 'licence': 'Data © OpenStreetMap contributors, ODbL 1.0. https://osm.org/copyright',\n",
       " 'osm_type': 'node',\n",
       " 'osm_id': 6309492410,\n",
       " 'boundingbox': ['37.4052236', '37.4152236', '-122.0318833', '-122.0218833'],\n",
       " 'lat': '37.4102236',\n",
       " 'lon': '-122.0268833',\n",
       " 'display_name': 'Lockheed Martin, North Mathilda Avenue, Sunnyvale, Santa Clara County, California, 94089, United States of America',\n",
       " 'class': 'railway',\n",
       " 'type': 'station',\n",
       " 'importance': 0.5168930617533198,\n",
       " 'icon': 'https://nominatim.openstreetmap.org/images/mapicons/transport_train_station2.p.20.png'}"
      ]
     },
     "execution_count": 4,
     "metadata": {},
     "output_type": "execute_result"
    }
   ],
   "source": [
    "# Check single query result\n",
    "result[0]"
   ]
  },
  {
   "cell_type": "code",
   "execution_count": 5,
   "metadata": {},
   "outputs": [
    {
     "data": {
      "text/html": [
       "<div>\n",
       "<style scoped>\n",
       "    .dataframe tbody tr th:only-of-type {\n",
       "        vertical-align: middle;\n",
       "    }\n",
       "\n",
       "    .dataframe tbody tr th {\n",
       "        vertical-align: top;\n",
       "    }\n",
       "\n",
       "    .dataframe thead th {\n",
       "        text-align: right;\n",
       "    }\n",
       "</style>\n",
       "<table border=\"1\" class=\"dataframe\">\n",
       "  <thead>\n",
       "    <tr style=\"text-align: right;\">\n",
       "      <th></th>\n",
       "      <th>place_id</th>\n",
       "      <th>licence</th>\n",
       "      <th>osm_type</th>\n",
       "      <th>osm_id</th>\n",
       "      <th>boundingbox</th>\n",
       "      <th>lat</th>\n",
       "      <th>lon</th>\n",
       "      <th>display_name</th>\n",
       "      <th>class</th>\n",
       "      <th>type</th>\n",
       "      <th>importance</th>\n",
       "      <th>icon</th>\n",
       "    </tr>\n",
       "  </thead>\n",
       "  <tbody>\n",
       "    <tr>\n",
       "      <th>0</th>\n",
       "      <td>73062617</td>\n",
       "      <td>Data © OpenStreetMap contributors, ODbL 1.0. h...</td>\n",
       "      <td>node</td>\n",
       "      <td>6309492410</td>\n",
       "      <td>[37.4052236, 37.4152236, -122.0318833, -122.02...</td>\n",
       "      <td>37.4102236</td>\n",
       "      <td>-122.0268833</td>\n",
       "      <td>Lockheed Martin, North Mathilda Avenue, Sunnyv...</td>\n",
       "      <td>railway</td>\n",
       "      <td>station</td>\n",
       "      <td>0.516893</td>\n",
       "      <td>https://nominatim.openstreetmap.org/images/map...</td>\n",
       "    </tr>\n",
       "    <tr>\n",
       "      <th>1</th>\n",
       "      <td>186830511</td>\n",
       "      <td>Data © OpenStreetMap contributors, ODbL 1.0. h...</td>\n",
       "      <td>way</td>\n",
       "      <td>461990541</td>\n",
       "      <td>[28.4393629, 28.4498899, -81.4663807, -81.4502...</td>\n",
       "      <td>28.444419449999998</td>\n",
       "      <td>-81.45939724481775</td>\n",
       "      <td>Lockheed Martin, Orange County, Florida, Unite...</td>\n",
       "      <td>landuse</td>\n",
       "      <td>industrial</td>\n",
       "      <td>0.400000</td>\n",
       "      <td>NaN</td>\n",
       "    </tr>\n",
       "    <tr>\n",
       "      <th>2</th>\n",
       "      <td>233040507</td>\n",
       "      <td>Data © OpenStreetMap contributors, ODbL 1.0. h...</td>\n",
       "      <td>way</td>\n",
       "      <td>751754734</td>\n",
       "      <td>[34.6091892, 34.6201411, -118.1216872, -118.10...</td>\n",
       "      <td>34.61462425</td>\n",
       "      <td>-118.1176553123895</td>\n",
       "      <td>Lockheed Martin, Palmdale, Los Angeles County,...</td>\n",
       "      <td>landuse</td>\n",
       "      <td>commercial</td>\n",
       "      <td>0.400000</td>\n",
       "      <td>NaN</td>\n",
       "    </tr>\n",
       "    <tr>\n",
       "      <th>3</th>\n",
       "      <td>110665459</td>\n",
       "      <td>Data © OpenStreetMap contributors, ODbL 1.0. h...</td>\n",
       "      <td>way</td>\n",
       "      <td>104556885</td>\n",
       "      <td>[52.0425106, 52.0482611, -0.4977645, -0.491177]</td>\n",
       "      <td>52.045457</td>\n",
       "      <td>-0.49518393513989056</td>\n",
       "      <td>Lockheed Martin, Houghton Conquest, Ampthill, ...</td>\n",
       "      <td>landuse</td>\n",
       "      <td>commercial</td>\n",
       "      <td>0.400000</td>\n",
       "      <td>NaN</td>\n",
       "    </tr>\n",
       "    <tr>\n",
       "      <th>4</th>\n",
       "      <td>108613516</td>\n",
       "      <td>Data © OpenStreetMap contributors, ODbL 1.0. h...</td>\n",
       "      <td>way</td>\n",
       "      <td>97858770</td>\n",
       "      <td>[43.099489, 43.1076352, -78.9366766, -78.927114]</td>\n",
       "      <td>43.105438</td>\n",
       "      <td>-78.93016382992954</td>\n",
       "      <td>Lockheed Martin, Walmore, Wheatfield Town, Nia...</td>\n",
       "      <td>landuse</td>\n",
       "      <td>industrial</td>\n",
       "      <td>0.400000</td>\n",
       "      <td>NaN</td>\n",
       "    </tr>\n",
       "    <tr>\n",
       "      <th>...</th>\n",
       "      <td>...</td>\n",
       "      <td>...</td>\n",
       "      <td>...</td>\n",
       "      <td>...</td>\n",
       "      <td>...</td>\n",
       "      <td>...</td>\n",
       "      <td>...</td>\n",
       "      <td>...</td>\n",
       "      <td>...</td>\n",
       "      <td>...</td>\n",
       "      <td>...</td>\n",
       "      <td>...</td>\n",
       "    </tr>\n",
       "    <tr>\n",
       "      <th>69</th>\n",
       "      <td>278470841</td>\n",
       "      <td>Data © OpenStreetMap contributors, ODbL 1.0. h...</td>\n",
       "      <td>way</td>\n",
       "      <td>777152069</td>\n",
       "      <td>[-38.7470154, -38.7462733, -62.2354176, -62.23...</td>\n",
       "      <td>-38.7467872</td>\n",
       "      <td>-62.2348592</td>\n",
       "      <td>Harris, Del Sol, Villa Italia, Villa Rosario S...</td>\n",
       "      <td>highway</td>\n",
       "      <td>residential</td>\n",
       "      <td>0.210000</td>\n",
       "      <td>NaN</td>\n",
       "    </tr>\n",
       "    <tr>\n",
       "      <th>70</th>\n",
       "      <td>202268490</td>\n",
       "      <td>Data © OpenStreetMap contributors, ODbL 1.0. h...</td>\n",
       "      <td>way</td>\n",
       "      <td>548991140</td>\n",
       "      <td>[-38.7551406, -38.7532673, -62.2454841, -62.24...</td>\n",
       "      <td>-38.7544384</td>\n",
       "      <td>-62.2446216</td>\n",
       "      <td>Harris, Villa Moresino, Bahía Blanca, Partido ...</td>\n",
       "      <td>highway</td>\n",
       "      <td>residential</td>\n",
       "      <td>0.210000</td>\n",
       "      <td>NaN</td>\n",
       "    </tr>\n",
       "    <tr>\n",
       "      <th>71</th>\n",
       "      <td>147601193</td>\n",
       "      <td>Data © OpenStreetMap contributors, ODbL 1.0. h...</td>\n",
       "      <td>way</td>\n",
       "      <td>253085542</td>\n",
       "      <td>[51.3217183, 51.3231126, 9.4905494, 9.4917967]</td>\n",
       "      <td>51.32252545</td>\n",
       "      <td>9.491076786172702</td>\n",
       "      <td>69, Nord (Holland), Kassel, Hessen, 34117, Deu...</td>\n",
       "      <td>landuse</td>\n",
       "      <td>industrial</td>\n",
       "      <td>0.200000</td>\n",
       "      <td>NaN</td>\n",
       "    </tr>\n",
       "    <tr>\n",
       "      <th>72</th>\n",
       "      <td>148841391</td>\n",
       "      <td>Data © OpenStreetMap contributors, ODbL 1.0. h...</td>\n",
       "      <td>way</td>\n",
       "      <td>258510560</td>\n",
       "      <td>[51.3217784, 51.3247942, 9.4961558, 9.4999543]</td>\n",
       "      <td>51.323279549999995</td>\n",
       "      <td>9.498461373412969</td>\n",
       "      <td>32-40, Nord (Holland), Kassel, Hessen, 34127, ...</td>\n",
       "      <td>landuse</td>\n",
       "      <td>industrial</td>\n",
       "      <td>0.200000</td>\n",
       "      <td>NaN</td>\n",
       "    </tr>\n",
       "    <tr>\n",
       "      <th>73</th>\n",
       "      <td>147491299</td>\n",
       "      <td>Data © OpenStreetMap contributors, ODbL 1.0. h...</td>\n",
       "      <td>way</td>\n",
       "      <td>251660900</td>\n",
       "      <td>[51.3209734, 51.3234706, 9.4773897, 9.4882513]</td>\n",
       "      <td>51.322372349999995</td>\n",
       "      <td>9.483159441752083</td>\n",
       "      <td>1, Rothenditmold, Kassel, Hessen, 34127, Deuts...</td>\n",
       "      <td>landuse</td>\n",
       "      <td>industrial</td>\n",
       "      <td>0.200000</td>\n",
       "      <td>NaN</td>\n",
       "    </tr>\n",
       "  </tbody>\n",
       "</table>\n",
       "<p>74 rows × 12 columns</p>\n",
       "</div>"
      ],
      "text/plain": [
       "     place_id                                            licence osm_type  \\\n",
       "0    73062617  Data © OpenStreetMap contributors, ODbL 1.0. h...     node   \n",
       "1   186830511  Data © OpenStreetMap contributors, ODbL 1.0. h...      way   \n",
       "2   233040507  Data © OpenStreetMap contributors, ODbL 1.0. h...      way   \n",
       "3   110665459  Data © OpenStreetMap contributors, ODbL 1.0. h...      way   \n",
       "4   108613516  Data © OpenStreetMap contributors, ODbL 1.0. h...      way   \n",
       "..        ...                                                ...      ...   \n",
       "69  278470841  Data © OpenStreetMap contributors, ODbL 1.0. h...      way   \n",
       "70  202268490  Data © OpenStreetMap contributors, ODbL 1.0. h...      way   \n",
       "71  147601193  Data © OpenStreetMap contributors, ODbL 1.0. h...      way   \n",
       "72  148841391  Data © OpenStreetMap contributors, ODbL 1.0. h...      way   \n",
       "73  147491299  Data © OpenStreetMap contributors, ODbL 1.0. h...      way   \n",
       "\n",
       "        osm_id                                        boundingbox  \\\n",
       "0   6309492410  [37.4052236, 37.4152236, -122.0318833, -122.02...   \n",
       "1    461990541  [28.4393629, 28.4498899, -81.4663807, -81.4502...   \n",
       "2    751754734  [34.6091892, 34.6201411, -118.1216872, -118.10...   \n",
       "3    104556885    [52.0425106, 52.0482611, -0.4977645, -0.491177]   \n",
       "4     97858770   [43.099489, 43.1076352, -78.9366766, -78.927114]   \n",
       "..         ...                                                ...   \n",
       "69   777152069  [-38.7470154, -38.7462733, -62.2354176, -62.23...   \n",
       "70   548991140  [-38.7551406, -38.7532673, -62.2454841, -62.24...   \n",
       "71   253085542     [51.3217183, 51.3231126, 9.4905494, 9.4917967]   \n",
       "72   258510560     [51.3217784, 51.3247942, 9.4961558, 9.4999543]   \n",
       "73   251660900     [51.3209734, 51.3234706, 9.4773897, 9.4882513]   \n",
       "\n",
       "                   lat                   lon  \\\n",
       "0           37.4102236          -122.0268833   \n",
       "1   28.444419449999998    -81.45939724481775   \n",
       "2          34.61462425    -118.1176553123895   \n",
       "3            52.045457  -0.49518393513989056   \n",
       "4            43.105438    -78.93016382992954   \n",
       "..                 ...                   ...   \n",
       "69         -38.7467872           -62.2348592   \n",
       "70         -38.7544384           -62.2446216   \n",
       "71         51.32252545     9.491076786172702   \n",
       "72  51.323279549999995     9.498461373412969   \n",
       "73  51.322372349999995     9.483159441752083   \n",
       "\n",
       "                                         display_name    class         type  \\\n",
       "0   Lockheed Martin, North Mathilda Avenue, Sunnyv...  railway      station   \n",
       "1   Lockheed Martin, Orange County, Florida, Unite...  landuse   industrial   \n",
       "2   Lockheed Martin, Palmdale, Los Angeles County,...  landuse   commercial   \n",
       "3   Lockheed Martin, Houghton Conquest, Ampthill, ...  landuse   commercial   \n",
       "4   Lockheed Martin, Walmore, Wheatfield Town, Nia...  landuse   industrial   \n",
       "..                                                ...      ...          ...   \n",
       "69  Harris, Del Sol, Villa Italia, Villa Rosario S...  highway  residential   \n",
       "70  Harris, Villa Moresino, Bahía Blanca, Partido ...  highway  residential   \n",
       "71  69, Nord (Holland), Kassel, Hessen, 34117, Deu...  landuse   industrial   \n",
       "72  32-40, Nord (Holland), Kassel, Hessen, 34127, ...  landuse   industrial   \n",
       "73  1, Rothenditmold, Kassel, Hessen, 34127, Deuts...  landuse   industrial   \n",
       "\n",
       "    importance                                               icon  \n",
       "0     0.516893  https://nominatim.openstreetmap.org/images/map...  \n",
       "1     0.400000                                                NaN  \n",
       "2     0.400000                                                NaN  \n",
       "3     0.400000                                                NaN  \n",
       "4     0.400000                                                NaN  \n",
       "..         ...                                                ...  \n",
       "69    0.210000                                                NaN  \n",
       "70    0.210000                                                NaN  \n",
       "71    0.200000                                                NaN  \n",
       "72    0.200000                                                NaN  \n",
       "73    0.200000                                                NaN  \n",
       "\n",
       "[74 rows x 12 columns]"
      ]
     },
     "execution_count": 5,
     "metadata": {},
     "output_type": "execute_result"
    }
   ],
   "source": [
    "# Analyse data\n",
    "df = pd.DataFrame.from_records(result)\n",
    "df"
   ]
  },
  {
   "cell_type": "code",
   "execution_count": 6,
   "metadata": {},
   "outputs": [
    {
     "data": {
      "text/plain": [
       "['place_id',\n",
       " 'licence',\n",
       " 'osm_type',\n",
       " 'osm_id',\n",
       " 'boundingbox',\n",
       " 'lat',\n",
       " 'lon',\n",
       " 'display_name',\n",
       " 'class',\n",
       " 'type',\n",
       " 'importance',\n",
       " 'icon']"
      ]
     },
     "execution_count": 6,
     "metadata": {},
     "output_type": "execute_result"
    }
   ],
   "source": [
    "# Analyse columns\n",
    "df.columns.tolist()"
   ]
  },
  {
   "cell_type": "code",
   "execution_count": 7,
   "metadata": {},
   "outputs": [
    {
     "data": {
      "text/html": [
       "<div>\n",
       "<style scoped>\n",
       "    .dataframe tbody tr th:only-of-type {\n",
       "        vertical-align: middle;\n",
       "    }\n",
       "\n",
       "    .dataframe tbody tr th {\n",
       "        vertical-align: top;\n",
       "    }\n",
       "\n",
       "    .dataframe thead th {\n",
       "        text-align: right;\n",
       "    }\n",
       "</style>\n",
       "<table border=\"1\" class=\"dataframe\">\n",
       "  <thead>\n",
       "    <tr style=\"text-align: right;\">\n",
       "      <th></th>\n",
       "      <th>0</th>\n",
       "    </tr>\n",
       "  </thead>\n",
       "  <tbody>\n",
       "    <tr>\n",
       "      <th>highway</th>\n",
       "      <td>25</td>\n",
       "    </tr>\n",
       "    <tr>\n",
       "      <th>landuse</th>\n",
       "      <td>24</td>\n",
       "    </tr>\n",
       "    <tr>\n",
       "      <th>place</th>\n",
       "      <td>7</td>\n",
       "    </tr>\n",
       "    <tr>\n",
       "      <th>building</th>\n",
       "      <td>6</td>\n",
       "    </tr>\n",
       "    <tr>\n",
       "      <th>office</th>\n",
       "      <td>3</td>\n",
       "    </tr>\n",
       "    <tr>\n",
       "      <th>amenity</th>\n",
       "      <td>2</td>\n",
       "    </tr>\n",
       "    <tr>\n",
       "      <th>tourism</th>\n",
       "      <td>2</td>\n",
       "    </tr>\n",
       "    <tr>\n",
       "      <th>man_made</th>\n",
       "      <td>2</td>\n",
       "    </tr>\n",
       "    <tr>\n",
       "      <th>boundary</th>\n",
       "      <td>1</td>\n",
       "    </tr>\n",
       "    <tr>\n",
       "      <th>aeroway</th>\n",
       "      <td>1</td>\n",
       "    </tr>\n",
       "    <tr>\n",
       "      <th>railway</th>\n",
       "      <td>1</td>\n",
       "    </tr>\n",
       "  </tbody>\n",
       "</table>\n",
       "</div>"
      ],
      "text/plain": [
       "           0\n",
       "highway   25\n",
       "landuse   24\n",
       "place      7\n",
       "building   6\n",
       "office     3\n",
       "amenity    2\n",
       "tourism    2\n",
       "man_made   2\n",
       "boundary   1\n",
       "aeroway    1\n",
       "railway    1"
      ]
     },
     "execution_count": 7,
     "metadata": {},
     "output_type": "execute_result"
    }
   ],
   "source": [
    "pd.DataFrame(df[\"class\"].apply(pd.Series)[0].value_counts())"
   ]
  },
  {
   "cell_type": "code",
   "execution_count": 8,
   "metadata": {},
   "outputs": [
    {
     "data": {
      "image/png": "[encoded data removed]",
      "text/plain": [
       "<Figure size 720x720 with 1 Axes>"
      ]
     },
     "metadata": {
      "needs_background": "light"
     },
     "output_type": "display_data"
    }
   ],
   "source": [
    "# Visualing class types\n",
    "loc_classes = pd.DataFrame(df[\"class\"].apply(pd.Series)[0].value_counts().reset_index())\n",
    "loc_classes.columns = [\"class\", \"count\"]\n",
    "fig, ax = plt.subplots(figsize=(10,10))\n",
    "sns.barplot(y=\"class\", x=\"count\", data=loc_classes, ax=ax)\n",
    "plt.tight_layout()"
   ]
  },
  {
   "cell_type": "code",
   "execution_count": 9,
   "metadata": {},
   "outputs": [
    {
     "data": {
      "image/png": "[encoded data removed]",
      "text/plain": [
       "<Figure size 720x720 with 1 Axes>"
      ]
     },
     "metadata": {
      "needs_background": "light"
     },
     "output_type": "display_data"
    }
   ],
   "source": [
    "# Remove classes that are definitely unneeded\n",
    "unneeded_classes = ['highway', 'place', 'tourism', 'boundary', 'railway', 'aeroway']\n",
    "df = df[df['class'].isin(unneeded_classes) == False]\n",
    "\n",
    "# Re-visualing loc classes\n",
    "loc_classes = pd.DataFrame(df[\"class\"].apply(pd.Series)[0].value_counts().reset_index())\n",
    "loc_classes.columns = [\"class\", \"count\"]\n",
    "fig, ax = plt.subplots(figsize=(10,10))\n",
    "sns.barplot(y=\"class\", x=\"count\", data=loc_classes, ax=ax)\n",
    "plt.tight_layout()"
   ]
  },
  {
   "cell_type": "code",
   "execution_count": 10,
   "metadata": {},
   "outputs": [
    {
     "data": {
      "image/png": "[encoded data removed]",
      "text/plain": [
       "<Figure size 720x720 with 1 Axes>"
      ]
     },
     "metadata": {
      "needs_background": "light"
     },
     "output_type": "display_data"
    }
   ],
   "source": [
    "# Visualing loc types\n",
    "loc_types = pd.DataFrame(df[\"type\"].apply(pd.Series)[0].value_counts().reset_index())\n",
    "loc_types.columns = [\"type\", \"count\"]\n",
    "fig, ax = plt.subplots(figsize=(10,10))\n",
    "sns.barplot(y=\"type\", x=\"count\", data=loc_types, ax=ax)\n",
    "plt.tight_layout()"
   ]
  },
  {
   "cell_type": "code",
   "execution_count": 11,
   "metadata": {},
   "outputs": [
    {
     "data": {
      "image/png": "[encoded data removed]",
      "text/plain": [
       "<Figure size 720x720 with 1 Axes>"
      ]
     },
     "metadata": {
      "needs_background": "light"
     },
     "output_type": "display_data"
    }
   ],
   "source": [
    "# Remove types that are definitely unneeded\n",
    "unneeded_types = ['parking', 'yes', 'brownfield']\n",
    "df = df[df['type'].isin(unneeded_types) == False]\n",
    "\n",
    "# Re-visualing loc types\n",
    "loc_types = pd.DataFrame(df[\"type\"].apply(pd.Series)[0].value_counts().reset_index())\n",
    "loc_types.columns = [\"type\", \"count\"]\n",
    "fig, ax = plt.subplots(figsize=(10,10))\n",
    "sns.barplot(y=\"type\", x=\"count\", data=loc_types, ax=ax)\n",
    "plt.tight_layout()"
   ]
  },
  {
   "cell_type": "markdown",
   "metadata": {},
   "source": [
    "# Testing python helper function to get mapping"
   ]
  },
  {
   "cell_type": "code",
   "execution_count": 12,
   "metadata": {},
   "outputs": [],
   "source": [
    "from geolocation_mapper import get_geolocation_mapping "
   ]
  },
  {
   "cell_type": "code",
   "execution_count": 13,
   "metadata": {},
   "outputs": [
    {
     "ename": "ValueError",
     "evalue": "Query must not be empty!",
     "output_type": "error",
     "traceback": [
      "\u001b[0;31m---------------------------------------------------------------------------\u001b[0m",
      "\u001b[0;31mValueError\u001b[0m                                Traceback (most recent call last)",
      "\u001b[0;32m<ipython-input-13-5b013f0901e6>\u001b[0m in \u001b[0;36m<module>\u001b[0;34m\u001b[0m\n\u001b[0;32m----> 1\u001b[0;31m \u001b[0mmapping\u001b[0m \u001b[0;34m=\u001b[0m \u001b[0mget_geolocation_mapping\u001b[0m\u001b[0;34m(\u001b[0m\u001b[0;34m\"\"\u001b[0m\u001b[0;34m)\u001b[0m\u001b[0;34m\u001b[0m\u001b[0;34m\u001b[0m\u001b[0m\n\u001b[0m\u001b[1;32m      2\u001b[0m \u001b[0;31m# Type error\u001b[0m\u001b[0;34m\u001b[0m\u001b[0;34m\u001b[0m\u001b[0;34m\u001b[0m\u001b[0m\n",
      "\u001b[0;32m~/Supplier-Geolocation-Mapping/src/geolocation_mapper.py\u001b[0m in \u001b[0;36mget_geolocation_mapping\u001b[0;34m(query)\u001b[0m\n\u001b[1;32m     18\u001b[0m \u001b[0;34m\u001b[0m\u001b[0m\n\u001b[1;32m     19\u001b[0m     \u001b[0;32mif\u001b[0m \u001b[0mquery\u001b[0m \u001b[0;32mis\u001b[0m \u001b[0;32mNone\u001b[0m \u001b[0;32mor\u001b[0m \u001b[0;32mnot\u001b[0m \u001b[0mquery\u001b[0m\u001b[0;34m:\u001b[0m\u001b[0;34m\u001b[0m\u001b[0;34m\u001b[0m\u001b[0m\n\u001b[0;32m---> 20\u001b[0;31m         \u001b[0;32mraise\u001b[0m \u001b[0mValueError\u001b[0m\u001b[0;34m(\u001b[0m\u001b[0;34m\"Query must not be empty!\"\u001b[0m\u001b[0;34m)\u001b[0m\u001b[0;34m\u001b[0m\u001b[0;34m\u001b[0m\u001b[0m\n\u001b[0m\u001b[1;32m     21\u001b[0m \u001b[0;34m\u001b[0m\u001b[0m\n\u001b[1;32m     22\u001b[0m     \u001b[0munneeded_classes\u001b[0m \u001b[0;34m=\u001b[0m \u001b[0;34m[\u001b[0m\u001b[0;34m'highway'\u001b[0m\u001b[0;34m,\u001b[0m \u001b[0;34m'place'\u001b[0m\u001b[0;34m,\u001b[0m \u001b[0;34m'tourism'\u001b[0m\u001b[0;34m,\u001b[0m \u001b[0;34m'boundary'\u001b[0m\u001b[0;34m,\u001b[0m \u001b[0;34m'railway'\u001b[0m\u001b[0;34m,\u001b[0m \u001b[0;34m'aeroway'\u001b[0m\u001b[0;34m]\u001b[0m\u001b[0;34m\u001b[0m\u001b[0;34m\u001b[0m\u001b[0m\n",
      "\u001b[0;31mValueError\u001b[0m: Query must not be empty!"
     ]
    }
   ],
   "source": [
    "mapping = get_geolocation_mapping(\"\")\n",
    "# Type error"
   ]
  },
  {
   "cell_type": "code",
   "execution_count": 14,
   "metadata": {},
   "outputs": [
    {
     "ename": "ValueError",
     "evalue": "Query must not be empty!",
     "output_type": "error",
     "traceback": [
      "\u001b[0;31m---------------------------------------------------------------------------\u001b[0m",
      "\u001b[0;31mValueError\u001b[0m                                Traceback (most recent call last)",
      "\u001b[0;32m<ipython-input-14-a71c587da256>\u001b[0m in \u001b[0;36m<module>\u001b[0;34m\u001b[0m\n\u001b[0;32m----> 1\u001b[0;31m \u001b[0mmapping\u001b[0m \u001b[0;34m=\u001b[0m \u001b[0mget_geolocation_mapping\u001b[0m\u001b[0;34m(\u001b[0m\u001b[0;34m)\u001b[0m\u001b[0;34m\u001b[0m\u001b[0;34m\u001b[0m\u001b[0m\n\u001b[0m\u001b[1;32m      2\u001b[0m \u001b[0;31m# Type error\u001b[0m\u001b[0;34m\u001b[0m\u001b[0;34m\u001b[0m\u001b[0;34m\u001b[0m\u001b[0m\n",
      "\u001b[0;32m~/Supplier-Geolocation-Mapping/src/geolocation_mapper.py\u001b[0m in \u001b[0;36mget_geolocation_mapping\u001b[0;34m(query)\u001b[0m\n\u001b[1;32m     18\u001b[0m \u001b[0;34m\u001b[0m\u001b[0m\n\u001b[1;32m     19\u001b[0m     \u001b[0;32mif\u001b[0m \u001b[0mquery\u001b[0m \u001b[0;32mis\u001b[0m \u001b[0;32mNone\u001b[0m \u001b[0;32mor\u001b[0m \u001b[0;32mnot\u001b[0m \u001b[0mquery\u001b[0m\u001b[0;34m:\u001b[0m\u001b[0;34m\u001b[0m\u001b[0;34m\u001b[0m\u001b[0m\n\u001b[0;32m---> 20\u001b[0;31m         \u001b[0;32mraise\u001b[0m \u001b[0mValueError\u001b[0m\u001b[0;34m(\u001b[0m\u001b[0;34m\"Query must not be empty!\"\u001b[0m\u001b[0;34m)\u001b[0m\u001b[0;34m\u001b[0m\u001b[0;34m\u001b[0m\u001b[0m\n\u001b[0m\u001b[1;32m     21\u001b[0m \u001b[0;34m\u001b[0m\u001b[0m\n\u001b[1;32m     22\u001b[0m     \u001b[0munneeded_classes\u001b[0m \u001b[0;34m=\u001b[0m \u001b[0;34m[\u001b[0m\u001b[0;34m'highway'\u001b[0m\u001b[0;34m,\u001b[0m \u001b[0;34m'place'\u001b[0m\u001b[0;34m,\u001b[0m \u001b[0;34m'tourism'\u001b[0m\u001b[0;34m,\u001b[0m \u001b[0;34m'boundary'\u001b[0m\u001b[0;34m,\u001b[0m \u001b[0;34m'railway'\u001b[0m\u001b[0;34m,\u001b[0m \u001b[0;34m'aeroway'\u001b[0m\u001b[0;34m]\u001b[0m\u001b[0;34m\u001b[0m\u001b[0;34m\u001b[0m\u001b[0m\n",
      "\u001b[0;31mValueError\u001b[0m: Query must not be empty!"
     ]
    }
   ],
   "source": [
    "mapping = get_geolocation_mapping()\n",
    "# Type error"
   ]
  },
  {
   "cell_type": "code",
   "execution_count": 15,
   "metadata": {},
   "outputs": [
    {
     "data": {
      "text/plain": [
       "[{'lat': '53.6187258', 'lon': '9.995376396325499'},\n",
       " {'lat': '43.65274885', 'lon': '1.356780913545912'},\n",
       " {'lat': '44.55276375', 'lon': '-0.23717808690619216'},\n",
       " {'lat': '51.513034250000004', 'lon': '-2.5775447515268164'},\n",
       " {'lat': '53.16591135', 'lon': '-3.0566938232321137'}]"
      ]
     },
     "execution_count": 15,
     "metadata": {},
     "output_type": "execute_result"
    }
   ],
   "source": [
    "mapping = get_geolocation_mapping('Airbus')\n",
    "mapping"
   ]
  },
  {
   "cell_type": "code",
   "execution_count": 16,
   "metadata": {},
   "outputs": [
    {
     "data": {
      "text/plain": [
       "[{'lat': '51.32252545', 'lon': '9.491076786172702'},\n",
       " {'lat': '51.323279549999995', 'lon': '9.498461373412969'},\n",
       " {'lat': '51.322372349999995', 'lon': '9.483159441752083'}]"
      ]
     },
     "execution_count": 16,
     "metadata": {},
     "output_type": "execute_result"
    }
   ],
   "source": [
    "mapping = get_geolocation_mapping('Krauss-Maffei Wegmann')\n",
    "mapping"
   ]
  }
 ],
 "metadata": {
  "kernelspec": {
   "display_name": "ox",
   "language": "python",
   "name": "ox"
  },
  "language_info": {
   "codemirror_mode": {
    "name": "ipython",
    "version": 3
   },
   "file_extension": ".py",
   "mimetype": "text/x-python",
   "name": "python",
   "nbconvert_exporter": "python",
   "pygments_lexer": "ipython3",
   "version": "3.7.6"
  }
 },
 "nbformat": 4,
 "nbformat_minor": 2
}
